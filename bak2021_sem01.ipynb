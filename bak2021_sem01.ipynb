{
  "nbformat": 4,
  "nbformat_minor": 0,
  "metadata": {
    "colab": {
      "name": "bak2021-sem01.ipynb",
      "provenance": [],
      "collapsed_sections": []
    },
    "kernelspec": {
      "name": "python3",
      "display_name": "Python 3"
    },
    "language_info": {
      "name": "python"
    }
  },
  "cells": [
    {
      "cell_type": "markdown",
      "metadata": {
        "id": "DiecUq9taju6"
      },
      "source": [
        "## Семинар 1.\n",
        "\n",
        "### Операции с числовыми и строковыми типами данных"
      ]
    },
    {
      "cell_type": "markdown",
      "metadata": {
        "id": "JW-YbWY7as7I"
      },
      "source": [
        "Задача 1. \n",
        "\n",
        "Напишите программу, которая спросит пользователя, как его зовут, и поприветствует его, т.е. выведет \"Привет, %name%!\" (name - имя пользователя)"
      ]
    },
    {
      "cell_type": "code",
      "metadata": {
        "id": "Lz3PvC-wa-cL"
      },
      "source": [
        ""
      ],
      "execution_count": null,
      "outputs": []
    },
    {
      "cell_type": "markdown",
      "metadata": {
        "id": "JMAfARala_Av"
      },
      "source": [
        "Задача 2.\n",
        "\n",
        "Пользователь вводит два числа - высоту и основание треугольника. Посчитайте площадь треугольника. "
      ]
    },
    {
      "cell_type": "code",
      "metadata": {
        "id": "zpRgpQJxbWO9"
      },
      "source": [
        ""
      ],
      "execution_count": null,
      "outputs": []
    },
    {
      "cell_type": "markdown",
      "metadata": {
        "id": "C5EKb2txbWk_"
      },
      "source": [
        "Задача 3.\n",
        "\n",
        "n школьников делят k яблок поровну, неделящийся остаток остается в корзинке. Сколько яблок достанется каждому школьнику? Сколько яблок останется в корзинке? Программа получает на вход числа n и k и должна вывести искомое количество яблок (два числа)."
      ]
    },
    {
      "cell_type": "code",
      "metadata": {
        "id": "zou89Lb0b3d_"
      },
      "source": [
        ""
      ],
      "execution_count": null,
      "outputs": []
    },
    {
      "cell_type": "markdown",
      "metadata": {
        "id": "T05JXdC4b3yS"
      },
      "source": [
        "Задача 4.\n",
        "\n",
        "Пользователь вводит количество секунд. Программа должна посчитать, сколько в этих секундах помещается часов и минут и вывести их в формате:\n",
        "\n",
        "    2:34:45\n",
        "\n",
        "Можно пользоваться конкатенацией строк, параметрами функции print или f-строками (предпочтительнее последнее!)"
      ]
    },
    {
      "cell_type": "code",
      "metadata": {
        "id": "zBQht5ihcNZn"
      },
      "source": [
        ""
      ],
      "execution_count": null,
      "outputs": []
    },
    {
      "cell_type": "markdown",
      "metadata": {
        "id": "Y17sLP8vcNpO"
      },
      "source": [
        "Задача 5. \n",
        "\n",
        "Заданы две клетки шахматной доски. Если они покрашены в один цвет, то выведите слово YES, а если в разные цвета — то NO. Программа получает на вход четыре числа от 1 до 8 каждое, задающие номер столбца и номер строки сначала для первой клетки, потом для второй клетки."
      ]
    },
    {
      "cell_type": "code",
      "metadata": {
        "id": "MvRiM2w-ce9Y"
      },
      "source": [
        ""
      ],
      "execution_count": null,
      "outputs": []
    },
    {
      "cell_type": "markdown",
      "metadata": {
        "id": "tZgTJfKacfXp"
      },
      "source": [
        "Задача 6. \n",
        "\n",
        "Вводится положительное действительное число х. Выведите его дробную часть. "
      ]
    },
    {
      "cell_type": "code",
      "metadata": {
        "id": "ueHdCR2Gcram"
      },
      "source": [
        ""
      ],
      "execution_count": null,
      "outputs": []
    },
    {
      "cell_type": "markdown",
      "metadata": {
        "id": "sAHm-PjBcrq7"
      },
      "source": [
        "Задача 7. \n",
        "\n",
        "Вводится положительное действительное число х. Выведите первую цифру его дробной части (н-р для 2.34 - 3)"
      ]
    },
    {
      "cell_type": "code",
      "metadata": {
        "id": "9yFc25BQcyMJ"
      },
      "source": [
        ""
      ],
      "execution_count": null,
      "outputs": []
    },
    {
      "cell_type": "markdown",
      "metadata": {
        "id": "fMIN51sScyyq"
      },
      "source": [
        "Задача 8. \n",
        "\n",
        "Вводятся длины катетов прямоугольного треугольника. Найдите его гипотенузу. "
      ]
    },
    {
      "cell_type": "code",
      "metadata": {
        "id": "5veF16H6dDzM"
      },
      "source": [
        ""
      ],
      "execution_count": null,
      "outputs": []
    },
    {
      "cell_type": "markdown",
      "metadata": {
        "id": "_EpxXRirdEK6"
      },
      "source": [
        "Задача 9. \n",
        "\n",
        "Пользователь вводит какую-то строчку. Определите, похожа ли она на название англоязычной книги или нет? (Lord Of The Rings - похожа, а lord of the rings - нет)"
      ]
    },
    {
      "cell_type": "code",
      "metadata": {
        "id": "-IOaq0CedOxh"
      },
      "source": [
        ""
      ],
      "execution_count": null,
      "outputs": []
    },
    {
      "cell_type": "markdown",
      "metadata": {
        "id": "qiBZV8QXdPUj"
      },
      "source": [
        "Задача 10. \n",
        "\n",
        "Пользователь вводит какие-то числа; программа должна выводить в ответ, четное число или нечетное, пока не будет введен 0. (Нужно использовать цикл)"
      ]
    },
    {
      "cell_type": "code",
      "metadata": {
        "id": "qzpM8q4WdcNl"
      },
      "source": [
        ""
      ],
      "execution_count": null,
      "outputs": []
    },
    {
      "cell_type": "markdown",
      "metadata": {
        "id": "Md9d82Jhdcdo"
      },
      "source": [
        "Задача 11.\n",
        "\n",
        "Пользователь вводит что-то. Программа должна проверить, является ли это целым числом, и если да, то вернуть его квадрат. "
      ]
    },
    {
      "cell_type": "code",
      "metadata": {
        "id": "XIE1-Imsdpzv"
      },
      "source": [
        ""
      ],
      "execution_count": null,
      "outputs": []
    },
    {
      "cell_type": "markdown",
      "metadata": {
        "id": "FnH_SJPjdqDp"
      },
      "source": [
        "Задача 12. \n",
        "\n",
        "Пользователь вводит несколько слов через пробел. Посчитайте любым способом, сколько он ввел слов. "
      ]
    },
    {
      "cell_type": "code",
      "metadata": {
        "id": "ClqRw-Uad6bg"
      },
      "source": [
        ""
      ],
      "execution_count": null,
      "outputs": []
    },
    {
      "cell_type": "markdown",
      "metadata": {
        "id": "lQot-WA3d60k"
      },
      "source": [
        "Задача 13. \n",
        "\n",
        "Пользователь вводит строчку, в которой попадаются символы %. Удалите все такие символы и верните новую строчку без них."
      ]
    },
    {
      "cell_type": "code",
      "metadata": {
        "id": "ZS8I--f5eCYZ"
      },
      "source": [
        ""
      ],
      "execution_count": null,
      "outputs": []
    },
    {
      "cell_type": "markdown",
      "metadata": {
        "id": "tJMP1aaweCsB"
      },
      "source": [
        "Задача 14.\n",
        "\n",
        "Пользователь вводит слово. Возьмите каждый второй символ в этом слове и удвойте получившееся, н-р: \n",
        "\n",
        "    'абракадабра' -> 'бааарбааар'"
      ]
    },
    {
      "cell_type": "code",
      "metadata": {
        "id": "JGwYbEkyfO7F"
      },
      "source": [
        ""
      ],
      "execution_count": null,
      "outputs": []
    },
    {
      "cell_type": "markdown",
      "metadata": {
        "id": "NFVJ4vk4fP3p"
      },
      "source": [
        "Задача 15.\n",
        "\n",
        "Сперва пользователь вводит число n, а потом вводит n чисел. Нужно посчитать среднее арифметическое. "
      ]
    },
    {
      "cell_type": "code",
      "metadata": {
        "id": "CM9MPGywfarx"
      },
      "source": [
        ""
      ],
      "execution_count": null,
      "outputs": []
    },
    {
      "cell_type": "markdown",
      "metadata": {
        "id": "OTWMwDNAfa9n"
      },
      "source": [
        "Задача 16.\n",
        "\n",
        "Пользователь вводит какие-то строчки, программа должна превращать их в заголовки; программа работает, пока пользователь не введет слово \"стоп\", причем это слово может быть введено любым способом: СТОП, стоп, Стоп и даже СтОП."
      ]
    },
    {
      "cell_type": "code",
      "metadata": {
        "id": "FO3OB276fpi4"
      },
      "source": [
        ""
      ],
      "execution_count": null,
      "outputs": []
    },
    {
      "cell_type": "markdown",
      "metadata": {
        "id": "uJJ9qrLcfp0a"
      },
      "source": [
        "Задача 17. \n",
        "\n",
        "Факториал - это произведение всех целых чисел от 1 до n, если кто забыл. :) Напишите программу, которая в цикле вычисляет факториал числа n. "
      ]
    },
    {
      "cell_type": "code",
      "metadata": {
        "id": "5y1hYtsWfzwp"
      },
      "source": [
        ""
      ],
      "execution_count": null,
      "outputs": []
    },
    {
      "cell_type": "markdown",
      "metadata": {
        "id": "iNwFTy7Ff0B-"
      },
      "source": [
        "Задача 18. \n",
        "\n",
        "Пользователь вводит числа, пока не введет 0; программа должна согласовать слово \"корова\" с числами: н-р, \n",
        "\n",
        "    1 корова\n",
        "    2 коровы\n",
        "    11 коров\n",
        "    ..."
      ]
    },
    {
      "cell_type": "code",
      "metadata": {
        "id": "zXHtspNVgejl"
      },
      "source": [
        ""
      ],
      "execution_count": null,
      "outputs": []
    },
    {
      "cell_type": "markdown",
      "metadata": {
        "id": "yyi2BPQfge_a"
      },
      "source": [
        "Задача 19. \n",
        "\n",
        "Пользователь вводит два слова. Поменяйте их местами (можно использовать срезы)."
      ]
    },
    {
      "cell_type": "code",
      "metadata": {
        "id": "K9e_QB6kgn9u"
      },
      "source": [
        ""
      ],
      "execution_count": null,
      "outputs": []
    },
    {
      "cell_type": "markdown",
      "metadata": {
        "id": "twWyYlo_goO7"
      },
      "source": [
        "Задача 20.\n",
        "\n",
        "Вводится строка, в которой есть два символа H. Нужно взять то, что между этими символами, и развернуть задом наперед, т.е. должна получиться такая вещь:\n",
        "\n",
        "    In the hole in the ground there lived a hobbit ->\n",
        "    In th a devil ereht dnuorg eht ni eloh ehobbit"
      ]
    },
    {
      "cell_type": "code",
      "metadata": {
        "id": "AfkHrgIHg8FU"
      },
      "source": [
        ""
      ],
      "execution_count": null,
      "outputs": []
    }
  ]
}